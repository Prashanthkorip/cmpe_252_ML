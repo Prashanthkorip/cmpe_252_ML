{
 "cells": [
  {
   "cell_type": "code",
   "execution_count": 2,
   "metadata": {},
   "outputs": [],
   "source": [
    "import numpy as np"
   ]
  },
  {
   "cell_type": "code",
   "execution_count": 10,
   "metadata": {},
   "outputs": [],
   "source": [
    "p_tilde = np.random.randn(4, 2, 2, 5)"
   ]
  },
  {
   "cell_type": "code",
   "execution_count": 21,
   "metadata": {},
   "outputs": [
    {
     "data": {
      "text/plain": [
       "(4, 1, 2, 1)"
      ]
     },
     "execution_count": 21,
     "metadata": {},
     "output_type": "execute_result"
    }
   ],
   "source": [
    "np.sum(p_tilde, axis=(1, 3), keepdims=True).shape"
   ]
  },
  {
   "cell_type": "code",
   "execution_count": 23,
   "metadata": {},
   "outputs": [
    {
     "data": {
      "text/plain": [
       "array([[[[-1.39555007e+00,  1.49221553e+00, -2.41098384e+00,\n",
       "           1.06390413e+00,  1.01819077e+00],\n",
       "         [ 4.03256095e-01, -2.44142456e-01,  1.26076515e-01,\n",
       "           6.51615245e-01,  1.10957332e+00]],\n",
       "\n",
       "        [[-4.06348965e-01,  1.63379104e+00, -1.25873627e+00,\n",
       "           3.80435803e-01,  8.83081873e-01],\n",
       "         [-1.93968761e-01, -1.79448165e+00,  6.04998045e-02,\n",
       "          -9.06593459e-01,  1.78816535e+00]]],\n",
       "\n",
       "\n",
       "       [[[ 1.40378687e-01, -1.09879925e-01,  1.92471419e-01,\n",
       "           5.31199512e-03,  2.46310768e-02],\n",
       "         [ 1.32943759e+00,  5.70878306e-01, -1.40318833e-01,\n",
       "          -3.70767356e-01,  7.81836180e-01]],\n",
       "\n",
       "        [[-2.63697573e-01,  6.62156226e-01,  2.92466936e-02,\n",
       "          -3.50999030e-02,  3.54481304e-01],\n",
       "         [ 3.08465064e-01, -2.77061929e-01,  1.68782851e-02,\n",
       "           3.91936582e-01, -1.61128389e+00]]],\n",
       "\n",
       "\n",
       "       [[[ 1.50535146e+00,  5.90637865e-01,  1.21302625e-01,\n",
       "           6.78534536e-01, -4.94074819e-01],\n",
       "         [ 1.71154179e-01, -5.02020071e-01,  4.22289711e-02,\n",
       "           3.21548922e-01, -2.30436804e-01]],\n",
       "\n",
       "        [[-1.76451278e+00,  9.72058620e-01, -1.36158600e-01,\n",
       "          -2.32043837e-01, -2.41095066e-01],\n",
       "         [-4.40162990e-01,  4.08032744e-01,  4.06796394e-01,\n",
       "           6.20963431e-01,  2.01895223e-01]]],\n",
       "\n",
       "\n",
       "       [[[ 1.99469175e-01,  4.62606768e-01, -2.51204033e-01,\n",
       "          -1.75194956e-02,  1.81230531e-01],\n",
       "         [-3.95993221e+01, -8.34753435e+00,  4.45554714e+00,\n",
       "           1.55234099e+01,  1.51601522e+01]],\n",
       "\n",
       "        [[ 5.43309865e-01,  8.81358495e-02,  3.57101243e-02,\n",
       "          -1.93943033e-01, -4.77957511e-02],\n",
       "         [-1.03919890e+01, -5.41260898e+00,  1.46708515e+01,\n",
       "          -1.41080568e+01,  2.90495506e+01]]]])"
      ]
     },
     "execution_count": 23,
     "metadata": {},
     "output_type": "execute_result"
    }
   ],
   "source": [
    "p_tilde / np.sum(p_tilde, axis=(1, 3), keepdims=True)"
   ]
  },
  {
   "cell_type": "code",
   "execution_count": null,
   "metadata": {},
   "outputs": [],
   "source": [
    "# S' S A A' : 5 5 4 4\n",
    "\n",
    "T = np.random.randn(5, 5, 4, 1) # P (S' | S, A)  = [S', S, A, 1]\n",
    "R = np.random.randn(5, 5, 1, 1) # R (S, A) = [S', 1, A, 1]\n",
    "\n",
    "gamma = 0.99\n",
    "Q_sp_ap = np.random.randn(5, 1, 5, 1)\n",
    "\n",
    "Q = R + gamma * a # sigma of next states over P(S'| s, a) max Q(S', A')\n"
   ]
  }
 ],
 "metadata": {
  "kernelspec": {
   "display_name": "cmpe_252",
   "language": "python",
   "name": "python3"
  },
  "language_info": {
   "codemirror_mode": {
    "name": "ipython",
    "version": 3
   },
   "file_extension": ".py",
   "mimetype": "text/x-python",
   "name": "python",
   "nbconvert_exporter": "python",
   "pygments_lexer": "ipython3",
   "version": "3.10.11"
  }
 },
 "nbformat": 4,
 "nbformat_minor": 2
}
